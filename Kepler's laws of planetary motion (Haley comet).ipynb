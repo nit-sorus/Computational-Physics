{
 "cells": [
  {
   "cell_type": "markdown",
   "metadata": {},
   "source": [
    "## Group no. 5 : Nitish goyal 18510053 Rachana choudhary 18510063"
   ]
  },
  {
   "cell_type": "markdown",
   "metadata": {},
   "source": [
    "## PH509 Lab 6 \n",
    "\n",
    "This is a take home lab session."
   ]
  },
  {
   "cell_type": "markdown",
   "metadata": {},
   "source": [
    "### Kepler's laws of planetary motion\n",
    "\n",
    "In this lab, we will study the motion of a planet under the gravitational force of the Sun (assumed to be stationary). Later, we will relax the condition that the Sun is stationary. You will set up the equations in 2D. Argue that for a central force, the angular momentum $\\frac{d\\vec L}{dt} = \\frac{d}{dt}\\, (\\vec r \\times \\vec p ) = 0$, and hence it is perfectly fine to work this problem out in 2D (the planet's motion is confined to a plane). \n",
    "\n",
    "Assume the planet's orbit to be very close to circular. As shown in class, (Giordano Eq 4.5), for such a case, working in units where time is measured in `Yr` and distance in `AU`, the value of $G M_S = 4 \\pi^2 \\; \\text{AU}^3 / \\text{Yr}^2$. \n",
    "\n",
    "The equation of motion for the planet (stationary Sun at origin) are:\n",
    "\\begin{eqnarray}\n",
    "\\frac{d v_x}{dt} &=& - G M_s \\frac{x}{r^3} \\\\\n",
    "\\frac{d x}{dt} &=& v_x \\\\\n",
    "\\frac{d v_y}{dt} &=& - G M_s \\frac{y}{r^3} \\\\\n",
    "\\frac{d x}{dt} &=& v_y \\\\\n",
    "\\end{eqnarray}\n",
    "\n",
    "Study the Plot 4.2 and reproduce it (choose initial velocity is $2\\pi \\; \\text{AU/Yr}$) for a planet kept initially at $1\\; \\text{AU}$. \n",
    "\n",
    "Calculate the total energy and angular momentum at each step and verify that they are conserved. \n",
    "\n",
    "Investigate the motion of the planet for higher and lower initial velocities than $2\\pi$. \n",
    "\n",
    "__Halley's Comet__: Use your program to investigate the motion of the Halley's comet, which has a period of $76 \\, \\text{Yr}$ and distance of closest approach to be $0.59 \\; \\text{AU}$. How would you fold in a root-finding algorithm to find the right initial velocity for this comet? Once you get the initial velocity right, find the farthest distance that the comet travels from the Sun (compare it with Pluto's distance which is about $30 \\; \\text{AU}$.\n",
    "\n"
   ]
  },
  {
   "cell_type": "code",
   "execution_count": 1,
   "metadata": {},
   "outputs": [],
   "source": [
    "import numpy as np\n",
    "import matplotlib.pyplot as plt\n",
    "from scipy.integrate import solve_ivp\n",
    "import math\n"
   ]
  },
  {
   "cell_type": "code",
   "execution_count": 31,
   "metadata": {},
   "outputs": [],
   "source": [
    "G=6.67*10**(-11)\n",
    "Ms=1.989*10**30\n",
    "AU= 1.496 *10**11\n",
    "YR=86400*365.35\n",
    "me=3*10**-6"
   ]
  },
  {
   "cell_type": "code",
   "execution_count": 32,
   "metadata": {},
   "outputs": [],
   "source": [
    "alpha=G*Ms*(YR**2)/(AU**3)\n",
    "value=4*(np.pi)**2\n"
   ]
  },
  {
   "cell_type": "code",
   "execution_count": 33,
   "metadata": {},
   "outputs": [
    {
     "name": "stdout",
     "output_type": "stream",
     "text": [
      "39.483127363058195\n",
      "39.47841760435743\n"
     ]
    }
   ],
   "source": [
    "print(alpha)\n",
    "print (value)       # Which comes out to be equal to 4*pi**2"
   ]
  },
  {
   "cell_type": "code",
   "execution_count": 5,
   "metadata": {},
   "outputs": [],
   "source": [
    "def rhs1(Ik):\n",
    "    xk,vxk,yk,vyk=Ik\n",
    "    return vxk, -4*np.pi**2*xk/(xk**2+yk**2)**(3/2), vyk, -4*np.pi**2*yk/(xk**2+yk**2)**(3/2)"
   ]
  },
  {
   "cell_type": "code",
   "execution_count": 7,
   "metadata": {},
   "outputs": [],
   "source": [
    "def leapfrog(rhs, I0, T0, dt):\n",
    "\n",
    "    N = int((T0[1]-T0[0])/dt) + 1\n",
    "    x = np.zeros(N)\n",
    "    y = np.zeros(N)                          # We need not extract velocity out\n",
    "    vxhalf = np.zeros(N)\n",
    "    vyhalf = np.zeros(N) \n",
    "    vx=np.zeros(N)\n",
    "    vy=np.zeros(N)\n",
    "    x[0], vx[0], y[0], vy[0]= I0\n",
    "    \n",
    "    for k in range(N-1): \n",
    "        \n",
    "        dydt = rhs([x[k], vx[k], y[k], vy[k]])\n",
    "        \n",
    "        axk = dydt[1]\n",
    "        \n",
    "        ayk = dydt[3]\n",
    "        \n",
    "        vxhalf[k] = vx[k] + .5 * dt * axk\n",
    "        \n",
    "        vyhalf[k] = vy[k] + .5 * dt * ayk\n",
    "        \n",
    "        x[k+1] = x[k] + dt * vxhalf[k]\n",
    "        \n",
    "        y[k+1] = y[k] + dt * vyhalf[k]\n",
    "        \n",
    "        dydt = rhs([x[k+1], vxhalf[k], y[k+1], vyhalf[k]])\n",
    "        \n",
    "        akxplus1 = dydt[1]\n",
    "        \n",
    "        akyplus1 = dydt[3]\n",
    "        \n",
    "        vx[k+1] = vxhalf[k] + 0.5*dt*akxplus1\n",
    "        \n",
    "        vy[k+1] = vyhalf[k] + 0.5*dt*akyplus1\n",
    "        \n",
    "        \n",
    "    return x[::20], vx[::20], y[::20], vy[::20], np.linspace(T0[0],T0[1],  int((T0[1]-T0[0])/dt) + 1)[::20]\n"
   ]
  },
  {
   "cell_type": "code",
   "execution_count": 8,
   "metadata": {},
   "outputs": [],
   "source": [
    "I0 = [1, 0, 0, 2*np.pi]\n",
    "T0 = [0,1]\n",
    "dt = 1/10000\n",
    "sol1=leapfrog(rhs1, I0, T0, dt)"
   ]
  },
  {
   "cell_type": "code",
   "execution_count": 9,
   "metadata": {},
   "outputs": [
    {
     "data": {
      "image/png": "[encoded data removed]",
      "text/plain": [
       "<Figure size 432x288 with 1 Axes>"
      ]
     },
     "metadata": {
      "needs_background": "light"
     },
     "output_type": "display_data"
    }
   ],
   "source": [
    "plt.plot(sol1[0], sol1[2])\n",
    "plt.axis('scaled')\n",
    "plt.savefig('see', dp1=1200)\n"
   ]
  },
  {
   "cell_type": "code",
   "execution_count": 10,
   "metadata": {},
   "outputs": [
    {
     "name": "stdout",
     "output_type": "stream",
     "text": [
      "6.283184688291967\n"
     ]
    }
   ],
   "source": [
    "print(np.average(sol1[1]**2+sol1[3]**2)**.5)"
   ]
  },
  {
   "cell_type": "markdown",
   "metadata": {},
   "source": [
    " Which is almost equal to earth's velocity which is 6.44 AU/YR"
   ]
  },
  {
   "cell_type": "code",
   "execution_count": 65,
   "metadata": {},
   "outputs": [],
   "source": [
    "I0 = [1, 0, 0, np.pi]\n",
    "T0 = [0,1/2]\n",
    "dt = 1/10000\n",
    "sol2=leapfrog(rhs1, I0, T0, dt)      # for initial velocity being pi"
   ]
  },
  {
   "cell_type": "code",
   "execution_count": 66,
   "metadata": {},
   "outputs": [
    {
     "data": {
      "image/png": "[encoded data removed]",
      "text/plain": [
       "<Figure size 432x288 with 1 Axes>"
      ]
     },
     "metadata": {
      "needs_background": "light"
     },
     "output_type": "display_data"
    }
   ],
   "source": [
    "plt.plot(sol2[0], sol2[2])\n",
    "plt.axis('scaled')\n",
    "plt.savefig('see')"
   ]
  },
  {
   "cell_type": "code",
   "execution_count": 83,
   "metadata": {},
   "outputs": [],
   "source": [
    "I0 = [1, 0, 0, 3*np.pi]\n",
    "T0 = [0,1]\n",
    "dt = 1/10000\n",
    "sol3=leapfrog(rhs1, I0, T0, dt)"
   ]
  },
  {
   "cell_type": "code",
   "execution_count": 102,
   "metadata": {},
   "outputs": [
    {
     "data": {
      "image/png": "[encoded data removed]",
      "text/plain": [
       "<Figure size 432x288 with 1 Axes>"
      ]
     },
     "metadata": {
      "needs_background": "light"
     },
     "output_type": "display_data"
    }
   ],
   "source": [
    "plt.plot(sol3[0], sol3[2])\n",
    "plt.axis('scaled')\n",
    "plt.show()"
   ]
  },
  {
   "cell_type": "code",
   "execution_count": 87,
   "metadata": {},
   "outputs": [],
   "source": []
  },
  {
   "cell_type": "code",
   "execution_count": 82,
   "metadata": {},
   "outputs": [
    {
     "name": "stdout",
     "output_type": "stream",
     "text": [
      "5.921761474077993e-05\n",
      "-0.00011843524114731535\n",
      "-5.921762640653542e-05\n"
     ]
    }
   ],
   "source": [
    "print(np.average(KE))\n",
    "print(np.average(PE))\n",
    "print(np.average(KE+PE))"
   ]
  },
  {
   "cell_type": "code",
   "execution_count": 35,
   "metadata": {},
   "outputs": [
    {
     "data": {
      "image/png": "[encoded data removed]",
      "text/plain": [
       "<Figure size 432x288 with 1 Axes>"
      ]
     },
     "metadata": {
      "needs_background": "light"
     },
     "output_type": "display_data"
    }
   ],
   "source": [
    "plt.plot(sol1[4],KE+PE)\n",
    "plt.show()"
   ]
  },
  {
   "cell_type": "markdown",
   "metadata": {},
   "source": [
    "## Runge-Lenz vector\n"
   ]
  },
  {
   "cell_type": "code",
   "execution_count": 48,
   "metadata": {},
   "outputs": [],
   "source": [
    "def My_Levi_Civita(i, j, k):\n",
    "    \n",
    "    return (np.sign(j-i) * np.sign(k-i) * np.sign(k-j))\n",
    "    \n",
    "    "
   ]
  },
  {
   "cell_type": "code",
   "execution_count": 49,
   "metadata": {},
   "outputs": [],
   "source": [
    "def crossprod_Levi(A, B):\n",
    "    \n",
    "    cp = np.zeros((3, 1))\n",
    "    s = np.zeros((3, 1))\n",
    "    for i in range(3): # Calculate s_i = \\sum_jk {epsilon_ijk A_j B_k}\n",
    "        for j in range(3):\n",
    "            for k in range(3):\n",
    "                \n",
    "                epsilon = My_Levi_Civita(i , j, k)\n",
    "                #print sign\n",
    "                sol = epsilon * A[j] * B[k]  \n",
    "                s[i] = s[i] + sol\n",
    "        cp[i] = s[i]\n",
    "        \n",
    "    return cp\n",
    "\n",
    "    "
   ]
  },
  {
   "cell_type": "code",
   "execution_count": 52,
   "metadata": {},
   "outputs": [],
   "source": [
    "def l_cal(sol1):\n",
    "    lvector=[]\n",
    "    for i in range(len(sol1[0])):\n",
    "        A=[sol1[0][i],sol1[2][i],0]\n",
    "        B=[sol1[1][i]*me,sol1[3][i]*me,0]\n",
    "        l=crossprod_Levi(A, B)\n",
    "        lvector.append(l)\n",
    "    return lvector\n"
   ]
  },
  {
   "cell_type": "code",
   "execution_count": 59,
   "metadata": {},
   "outputs": [
    {
     "name": "stdout",
     "output_type": "stream",
     "text": [
      "[[0.00000000e+00]\n",
      " [0.00000000e+00]\n",
      " [1.88495559e-05]] \n",
      " [[0.00000000e+00]\n",
      " [0.00000000e+00]\n",
      " [1.88495559e-05]]\n"
     ]
    }
   ],
   "source": [
    "\n",
    "lvector=l_cal(sol1)\n",
    "print(lvector[0],'\\n',lvector[-1])   # Which is evidently constant\n",
    "\n"
   ]
  },
  {
   "cell_type": "code",
   "execution_count": null,
   "metadata": {},
   "outputs": [],
   "source": [
    "# If E=0, one can say the body has just escaped through the potential"
   ]
  },
  {
   "cell_type": "code",
   "execution_count": 96,
   "metadata": {},
   "outputs": [],
   "source": [
    "def bisectRoot(func, a, b, eps, maxIter):\n",
    "    \n",
    "    x1=a\n",
    "    x2=b\n",
    "    i=0\n",
    "    if func(x1)>0:\n",
    "        temp=x2\n",
    "        x2=x1\n",
    "        x1=temp\n",
    "    while func(x1)!=0 and i<maxIter:\n",
    "        i=i+1\n",
    "        x3=(x1+x2)/2\n",
    "        \n",
    "        if func(x3)>0:\n",
    "            x2=x3\n",
    "        elif func(x3)<0: \n",
    "            x1=x3\n",
    "        else:\n",
    "            return x3\n",
    "        \n",
    "    return (x3,i)\n",
    "        "
   ]
  },
  {
   "cell_type": "code",
   "execution_count": 146,
   "metadata": {},
   "outputs": [],
   "source": [
    "# Total Energy will be greater than or equal to zero for escape\n",
    "\n",
    "def Efinder1(x):\n",
    "    I0 = [1, 0, 0, x]\n",
    "    T0 = [0,1]\n",
    "    dt = 1/10000\n",
    "    sol1=leapfrog(rhs1, I0, T0, dt)\n",
    "    KE=1/2*me*(sol1[1]**2+sol1[3]**2)\n",
    "    PE=-4*np.pi**2*me/(sol1[0]**2+sol1[2]**2)**.5\n",
    "    return np.average(KE+PE)"
   ]
  },
  {
   "cell_type": "code",
   "execution_count": 147,
   "metadata": {},
   "outputs": [],
   "source": [
    "esc_vel=bisectRoot(Efinder1,6,9,.001,20)"
   ]
  },
  {
   "cell_type": "code",
   "execution_count": null,
   "metadata": {},
   "outputs": [],
   "source": [
    "print(esc_vel[0])         # Escape velocity of earth came out to be 8.8857"
   ]
  },
  {
   "cell_type": "code",
   "execution_count": 149,
   "metadata": {},
   "outputs": [],
   "source": [
    "I0 = [1, 0, 0, esc_vel[0]]\n",
    "T0 = [0,100]\n",
    "dt = 1/10000\n",
    "sol5=leapfrog(rhs1, I0, T0, dt)"
   ]
  },
  {
   "cell_type": "code",
   "execution_count": 150,
   "metadata": {},
   "outputs": [
    {
     "data": {
      "image/png": "[encoded data removed]",
      "text/plain": [
       "<Figure size 432x288 with 1 Axes>"
      ]
     },
     "metadata": {
      "needs_background": "light"
     },
     "output_type": "display_data"
    }
   ],
   "source": [
    "plt.plot(sol5[0], sol5[2])\n",
    "plt.axis('scaled')\n",
    "plt.show()"
   ]
  },
  {
   "cell_type": "code",
   "execution_count": null,
   "metadata": {},
   "outputs": [],
   "source": [
    "# Clearly after even hundred years it hasn't been into closed orbit"
   ]
  },
  {
   "cell_type": "code",
   "execution_count": 154,
   "metadata": {},
   "outputs": [],
   "source": [
    "def Efinder2(x):\n",
    "    I0 = [1, 0, 0, x]\n",
    "    T0 = [0,76]\n",
    "    dt = 1/1000\n",
    "    sol1=leapfrog(rhs1, I0, T0, dt)\n",
    "    return sol1[0][-1]-.57"
   ]
  },
  {
   "cell_type": "code",
   "execution_count": 160,
   "metadata": {},
   "outputs": [],
   "source": [
    "velohelo=bisectRoot(Efinder2,8,16,.001,4)"
   ]
  },
  {
   "cell_type": "code",
   "execution_count": 161,
   "metadata": {},
   "outputs": [
    {
     "name": "stdout",
     "output_type": "stream",
     "text": [
      "(11.875, 4)\n"
     ]
    }
   ],
   "source": [
    "print(velohelo[0])   # It took me 2 min to get result for even 4 iterations"
   ]
  },
  {
   "cell_type": "code",
   "execution_count": 162,
   "metadata": {},
   "outputs": [],
   "source": [
    "# The above is appx value of v"
   ]
  },
  {
   "cell_type": "code",
   "execution_count": 181,
   "metadata": {},
   "outputs": [],
   "source": [
    "I0 = [.57, 0, 0, 11.5]\n",
    "T0 = [0,76]                          \n",
    "dt = 1/10000\n",
    "sol6=leapfrog(rhs1, I0, T0, dt)  # If i put 11.5 I get a closed trajec which means i have to find siln to more accuracy"
   ]
  },
  {
   "cell_type": "code",
   "execution_count": 182,
   "metadata": {},
   "outputs": [
    {
     "data": {
      "text/plain": [
       "[<matplotlib.lines.Line2D at 0x7fcd3b64a2b0>]"
      ]
     },
     "execution_count": 182,
     "metadata": {},
     "output_type": "execute_result"
    },
    {
     "data": {
      "image/png": "[encoded data removed]",
      "text/plain": [
       "<Figure size 432x288 with 1 Axes>"
      ]
     },
     "metadata": {
      "needs_background": "light"
     },
     "output_type": "display_data"
    }
   ],
   "source": [
    "plt.plot(sol6[0],sol6[2])  "
   ]
  },
  {
   "cell_type": "code",
   "execution_count": 189,
   "metadata": {},
   "outputs": [
    {
     "name": "stdout",
     "output_type": "stream",
     "text": [
      "0.5452806186928192\n"
     ]
    }
   ],
   "source": [
    "n=min(np.sqrt(sol6[1]**2+sol6[3]**2))\n",
    "print(n)"
   ]
  },
  {
   "cell_type": "code",
   "execution_count": null,
   "metadata": {},
   "outputs": [],
   "source": [
    "# According to this plot v at farthest is .54 AU/YR"
   ]
  }
 ],
 "metadata": {
  "kernelspec": {
   "display_name": "Python 3 (ipykernel)",
   "language": "python",
   "name": "python3"
  },
  "language_info": {
   "codemirror_mode": {
    "name": "ipython",
    "version": 3
   },
   "file_extension": ".py",
   "mimetype": "text/x-python",
   "name": "python",
   "nbconvert_exporter": "python",
   "pygments_lexer": "ipython3",
   "version": "3.10.6"
  }
 },
 "nbformat": 4,
 "nbformat_minor": 2
}
